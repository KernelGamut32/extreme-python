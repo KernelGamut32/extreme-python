{
  "cells": [
    {
      "cell_type": "markdown",
      "metadata": {},
      "source": [
        "# Lab 01: Pandas Index, Series & DataFrame Fundamentals (≈30 minutes)\n",
        "\n",
        "**Goal:** Build confident, mental models for **Index**, **Series**, and **DataFrame**—and how to select, slice, filter, and reshape using labels vs positions.\n",
        "\n",
        "> ⏱️ **Timebox**: ~30 minutes total. Each task has an estimate—keep moving if you’re behind."
      ]
    },
    {
      "cell_type": "markdown",
      "metadata": {},
      "source": [
        "## Prereqs\n",
        "- Python 3.9+\n",
        "- `pandas` (any recent release):\n",
        "  ```bash\n",
        "  pip install pandas\n",
        "  ```\n",
        "- IDE or notebook (VS Code, Jupyter, Databricks, etc.)"
      ]
    },
    {
      "cell_type": "code",
      "execution_count": 52,
      "metadata": {
        "collapsed": false
      },
      "outputs": [
        {
          "data": {
            "text/plain": [
              "'2.2.3'"
            ]
          },
          "execution_count": 52,
          "metadata": {},
          "output_type": "execute_result"
        }
      ],
      "source": [
        "# Setup (2 min)\n",
        "import pandas as pd\n",
        "import numpy as np\n",
        "pd.__version__"
      ]
    },
    {
      "cell_type": "code",
      "execution_count": 53,
      "metadata": {},
      "outputs": [
        {
          "data": {
            "text/html": [
              "<div>\n",
              "<style scoped>\n",
              "    .dataframe tbody tr th:only-of-type {\n",
              "        vertical-align: middle;\n",
              "    }\n",
              "\n",
              "    .dataframe tbody tr th {\n",
              "        vertical-align: top;\n",
              "    }\n",
              "\n",
              "    .dataframe thead th {\n",
              "        text-align: right;\n",
              "    }\n",
              "</style>\n",
              "<table border=\"1\" class=\"dataframe\">\n",
              "  <thead>\n",
              "    <tr style=\"text-align: right;\">\n",
              "      <th></th>\n",
              "      <th>order_id</th>\n",
              "      <th>customer</th>\n",
              "      <th>city</th>\n",
              "      <th>quantity</th>\n",
              "      <th>unit_price</th>\n",
              "      <th>order_date</th>\n",
              "    </tr>\n",
              "  </thead>\n",
              "  <tbody>\n",
              "    <tr>\n",
              "      <th>0</th>\n",
              "      <td>1001</td>\n",
              "      <td>Ava</td>\n",
              "      <td>NYC</td>\n",
              "      <td>2</td>\n",
              "      <td>12.5</td>\n",
              "      <td>2024-01-10</td>\n",
              "    </tr>\n",
              "    <tr>\n",
              "      <th>1</th>\n",
              "      <td>1002</td>\n",
              "      <td>Ben</td>\n",
              "      <td>Boston</td>\n",
              "      <td>1</td>\n",
              "      <td>9.0</td>\n",
              "      <td>2024-01-12</td>\n",
              "    </tr>\n",
              "    <tr>\n",
              "      <th>2</th>\n",
              "      <td>1003</td>\n",
              "      <td>Ava</td>\n",
              "      <td>NYC</td>\n",
              "      <td>4</td>\n",
              "      <td>12.5</td>\n",
              "      <td>2024-01-12</td>\n",
              "    </tr>\n",
              "    <tr>\n",
              "      <th>3</th>\n",
              "      <td>1004</td>\n",
              "      <td>Cara</td>\n",
              "      <td>Austin</td>\n",
              "      <td>3</td>\n",
              "      <td>15.0</td>\n",
              "      <td>2024-02-01</td>\n",
              "    </tr>\n",
              "    <tr>\n",
              "      <th>4</th>\n",
              "      <td>1005</td>\n",
              "      <td>Ben</td>\n",
              "      <td>Boston</td>\n",
              "      <td>2</td>\n",
              "      <td>9.0</td>\n",
              "      <td>2024-02-03</td>\n",
              "    </tr>\n",
              "  </tbody>\n",
              "</table>\n",
              "</div>"
            ],
            "text/plain": [
              "   order_id customer    city  quantity  unit_price order_date\n",
              "0      1001      Ava     NYC         2        12.5 2024-01-10\n",
              "1      1002      Ben  Boston         1         9.0 2024-01-12\n",
              "2      1003      Ava     NYC         4        12.5 2024-01-12\n",
              "3      1004     Cara  Austin         3        15.0 2024-02-01\n",
              "4      1005      Ben  Boston         2         9.0 2024-02-03"
            ]
          },
          "execution_count": 53,
          "metadata": {},
          "output_type": "execute_result"
        }
      ],
      "source": [
        "# Create a small dataset we will reuse\n",
        "orders_data = {\n",
        "    \"order_id\":   [1001, 1002, 1003, 1004, 1005, 1006],\n",
        "    \"customer\":   [\"Ava\", \"Ben\", \"Ava\", \"Cara\", \"Ben\", \"Ava\"],\n",
        "    \"city\":       [\"NYC\", \"Boston\", \"NYC\", \"Austin\", \"Boston\", \"NYC\"],\n",
        "    \"quantity\":   [2, 1, 4, 3, 2, 1],\n",
        "    \"unit_price\": [12.5, 9.0, 12.5, 15.0, 9.0, 12.5],\n",
        "    \"order_date\": [\"2024-01-10\", \"2024-01-12\", \"2024-01-12\", \"2024-02-01\", \"2024-02-03\", \"2024-03-15\"],\n",
        "}\n",
        "df = pd.DataFrame(orders_data)\n",
        "df[\"order_date\"] = pd.to_datetime(df[\"order_date\"]) \n",
        "df.head()"
      ]
    },
    {
      "cell_type": "markdown",
      "metadata": {},
      "source": [
        "## Task 1 — Series basics (5 min)\n",
        "A **Series** is a 1-D labeled array (values + index)."
      ]
    },
    {
      "cell_type": "code",
      "execution_count": 54,
      "metadata": {},
      "outputs": [
        {
          "data": {
            "text/plain": [
              "x    3\n",
              "y    5\n",
              "z    7\n",
              "Name: scores, dtype: int64"
            ]
          },
          "execution_count": 54,
          "metadata": {},
          "output_type": "execute_result"
        }
      ],
      "source": [
        "# 1) Create a Series with a custom index and a name.\n",
        "s = pd.Series([3, 5, 7], index=[\"x\", \"y\", \"z\"], name=\"scores\")\n",
        "s"
      ]
    },
    {
      "cell_type": "code",
      "execution_count": 55,
      "metadata": {},
      "outputs": [
        {
          "name": "stdout",
          "output_type": "stream",
          "text": [
            "5\n",
            "5\n"
          ]
        },
        {
          "data": {
            "text/plain": [
              "z    7\n",
              "x    3\n",
              "Name: scores, dtype: int64"
            ]
          },
          "execution_count": 55,
          "metadata": {},
          "output_type": "execute_result"
        }
      ],
      "source": [
        "# 2) Access items by label and position\n",
        "print(s.loc[\"y\"])     # 5 (label-based)\n",
        "print(s.iloc[1])       # 5 (position-based)\n",
        "s.loc[[\"z\",\"x\"]]      # re-order by labels"
      ]
    },
    {
      "cell_type": "code",
      "execution_count": 56,
      "metadata": {},
      "outputs": [
        {
          "name": "stdout",
          "output_type": "stream",
          "text": [
            "Index(['x', 'y', 'z'], dtype='object') int64 scores\n"
          ]
        },
        {
          "data": {
            "text/plain": [
              "count    3.0\n",
              "mean     5.0\n",
              "std      2.0\n",
              "min      3.0\n",
              "25%      4.0\n",
              "50%      5.0\n",
              "75%      6.0\n",
              "max      7.0\n",
              "Name: scores, dtype: float64"
            ]
          },
          "metadata": {},
          "output_type": "display_data"
        },
        {
          "data": {
            "text/plain": [
              "np.float64(5.0)"
            ]
          },
          "execution_count": 56,
          "metadata": {},
          "output_type": "execute_result"
        }
      ],
      "source": [
        "# 3) Inspect metadata and stats\n",
        "print(s.index, s.dtype, s.name)\n",
        "display(s.describe())\n",
        "s.mean()"
      ]
    },
    {
      "cell_type": "code",
      "execution_count": 57,
      "metadata": {},
      "outputs": [
        {
          "data": {
            "text/plain": [
              "ticker\n",
              "AAPL    189.3\n",
              "MSFT    418.2\n",
              "GOOG    172.1\n",
              "Name: price, dtype: float64"
            ]
          },
          "metadata": {},
          "output_type": "display_data"
        },
        {
          "data": {
            "text/plain": [
              "ticker\n",
              "MSFT    418.2\n",
              "AAPL    189.3\n",
              "AMZN      NaN\n",
              "GOOG    172.1\n",
              "Name: price, dtype: float64"
            ]
          },
          "metadata": {},
          "output_type": "display_data"
        },
        {
          "data": {
            "text/plain": [
              "ticker\n",
              "MSFT    False\n",
              "AAPL    False\n",
              "AMZN     True\n",
              "GOOG    False\n",
              "Name: price, dtype: bool"
            ]
          },
          "metadata": {},
          "output_type": "display_data"
        },
        {
          "data": {
            "text/plain": [
              "ticker\n",
              "MSFT    418.2\n",
              "AAPL    189.3\n",
              "AMZN      0.0\n",
              "GOOG    172.1\n",
              "Name: price, dtype: float64"
            ]
          },
          "execution_count": 57,
          "metadata": {},
          "output_type": "execute_result"
        }
      ],
      "source": [
        "# 4) Build a Series from a dict and reindex\n",
        "prices = pd.Series({\"AAPL\": 189.3, \"MSFT\": 418.2, \"GOOG\": 172.1}, name=\"price\").rename_axis(\"ticker\")\n",
        "display(prices)\n",
        "prices2 = prices.reindex([\"MSFT\", \"AAPL\", \"AMZN\", \"GOOG\"])  # introduces NaN for AMZN\n",
        "display(prices2)\n",
        "display(prices2.isna())\n",
        "prices2.fillna(0.0)"
      ]
    },
    {
      "cell_type": "markdown",
      "metadata": {},
      "source": [
        "## Task 2 — Index fundamentals (5 min)\n",
        "The **Index** is the label axis. It’s used for alignment, selection, and joining."
      ]
    },
    {
      "cell_type": "code",
      "execution_count": 58,
      "metadata": {},
      "outputs": [
        {
          "data": {
            "text/plain": [
              "(RangeIndex(start=0, stop=6, step=1),\n",
              " Index(['order_id', 'customer', 'city', 'quantity', 'unit_price', 'order_date'], dtype='object'))"
            ]
          },
          "execution_count": 58,
          "metadata": {},
          "output_type": "execute_result"
        }
      ],
      "source": [
        "# 1) Look at the default Index of df\n",
        "df.index, df.columns"
      ]
    },
    {
      "cell_type": "code",
      "execution_count": 59,
      "metadata": {},
      "outputs": [
        {
          "data": {
            "text/html": [
              "<div>\n",
              "<style scoped>\n",
              "    .dataframe tbody tr th:only-of-type {\n",
              "        vertical-align: middle;\n",
              "    }\n",
              "\n",
              "    .dataframe tbody tr th {\n",
              "        vertical-align: top;\n",
              "    }\n",
              "\n",
              "    .dataframe thead th {\n",
              "        text-align: right;\n",
              "    }\n",
              "</style>\n",
              "<table border=\"1\" class=\"dataframe\">\n",
              "  <thead>\n",
              "    <tr style=\"text-align: right;\">\n",
              "      <th></th>\n",
              "      <th>customer</th>\n",
              "      <th>city</th>\n",
              "      <th>quantity</th>\n",
              "      <th>unit_price</th>\n",
              "      <th>order_date</th>\n",
              "      <th>total</th>\n",
              "    </tr>\n",
              "    <tr>\n",
              "      <th>order_id</th>\n",
              "      <th></th>\n",
              "      <th></th>\n",
              "      <th></th>\n",
              "      <th></th>\n",
              "      <th></th>\n",
              "      <th></th>\n",
              "    </tr>\n",
              "  </thead>\n",
              "  <tbody>\n",
              "    <tr>\n",
              "      <th>1001</th>\n",
              "      <td>Ava</td>\n",
              "      <td>NYC</td>\n",
              "      <td>2</td>\n",
              "      <td>12.5</td>\n",
              "      <td>2024-01-10</td>\n",
              "      <td>25.0</td>\n",
              "    </tr>\n",
              "    <tr>\n",
              "      <th>1002</th>\n",
              "      <td>Ben</td>\n",
              "      <td>Boston</td>\n",
              "      <td>1</td>\n",
              "      <td>9.0</td>\n",
              "      <td>2024-01-12</td>\n",
              "      <td>9.0</td>\n",
              "    </tr>\n",
              "    <tr>\n",
              "      <th>1003</th>\n",
              "      <td>Ava</td>\n",
              "      <td>NYC</td>\n",
              "      <td>4</td>\n",
              "      <td>12.5</td>\n",
              "      <td>2024-01-12</td>\n",
              "      <td>50.0</td>\n",
              "    </tr>\n",
              "    <tr>\n",
              "      <th>1004</th>\n",
              "      <td>Cara</td>\n",
              "      <td>Austin</td>\n",
              "      <td>3</td>\n",
              "      <td>15.0</td>\n",
              "      <td>2024-02-01</td>\n",
              "      <td>45.0</td>\n",
              "    </tr>\n",
              "    <tr>\n",
              "      <th>1005</th>\n",
              "      <td>Ben</td>\n",
              "      <td>Boston</td>\n",
              "      <td>2</td>\n",
              "      <td>9.0</td>\n",
              "      <td>2024-02-03</td>\n",
              "      <td>18.0</td>\n",
              "    </tr>\n",
              "  </tbody>\n",
              "</table>\n",
              "</div>"
            ],
            "text/plain": [
              "         customer    city  quantity  unit_price order_date  total\n",
              "order_id                                                         \n",
              "1001          Ava     NYC         2        12.5 2024-01-10   25.0\n",
              "1002          Ben  Boston         1         9.0 2024-01-12    9.0\n",
              "1003          Ava     NYC         4        12.5 2024-01-12   50.0\n",
              "1004         Cara  Austin         3        15.0 2024-02-01   45.0\n",
              "1005          Ben  Boston         2         9.0 2024-02-03   18.0"
            ]
          },
          "execution_count": 59,
          "metadata": {},
          "output_type": "execute_result"
        }
      ],
      "source": [
        "# 2) Set a meaningful index (primary key) and add a computed column\n",
        "df = df.set_index(\"order_id\")\n",
        "df[\"total\"] = df[\"quantity\"] * df[\"unit_price\"]\n",
        "df.head()"
      ]
    },
    {
      "cell_type": "code",
      "execution_count": 60,
      "metadata": {},
      "outputs": [
        {
          "name": "stdout",
          "output_type": "stream",
          "text": [
            "order_id\n"
          ]
        },
        {
          "data": {
            "text/html": [
              "<div>\n",
              "<style scoped>\n",
              "    .dataframe tbody tr th:only-of-type {\n",
              "        vertical-align: middle;\n",
              "    }\n",
              "\n",
              "    .dataframe tbody tr th {\n",
              "        vertical-align: top;\n",
              "    }\n",
              "\n",
              "    .dataframe thead th {\n",
              "        text-align: right;\n",
              "    }\n",
              "</style>\n",
              "<table border=\"1\" class=\"dataframe\">\n",
              "  <thead>\n",
              "    <tr style=\"text-align: right;\">\n",
              "      <th></th>\n",
              "      <th>customer</th>\n",
              "      <th>city</th>\n",
              "      <th>quantity</th>\n",
              "      <th>unit_price</th>\n",
              "      <th>order_date</th>\n",
              "      <th>total</th>\n",
              "    </tr>\n",
              "    <tr>\n",
              "      <th>OrderID</th>\n",
              "      <th></th>\n",
              "      <th></th>\n",
              "      <th></th>\n",
              "      <th></th>\n",
              "      <th></th>\n",
              "      <th></th>\n",
              "    </tr>\n",
              "  </thead>\n",
              "  <tbody>\n",
              "    <tr>\n",
              "      <th>1001</th>\n",
              "      <td>Ava</td>\n",
              "      <td>NYC</td>\n",
              "      <td>2</td>\n",
              "      <td>12.5</td>\n",
              "      <td>2024-01-10</td>\n",
              "      <td>25.0</td>\n",
              "    </tr>\n",
              "    <tr>\n",
              "      <th>1002</th>\n",
              "      <td>Ben</td>\n",
              "      <td>Boston</td>\n",
              "      <td>1</td>\n",
              "      <td>9.0</td>\n",
              "      <td>2024-01-12</td>\n",
              "      <td>9.0</td>\n",
              "    </tr>\n",
              "    <tr>\n",
              "      <th>1003</th>\n",
              "      <td>Ava</td>\n",
              "      <td>NYC</td>\n",
              "      <td>4</td>\n",
              "      <td>12.5</td>\n",
              "      <td>2024-01-12</td>\n",
              "      <td>50.0</td>\n",
              "    </tr>\n",
              "  </tbody>\n",
              "</table>\n",
              "</div>"
            ],
            "text/plain": [
              "        customer    city  quantity  unit_price order_date  total\n",
              "OrderID                                                         \n",
              "1001         Ava     NYC         2        12.5 2024-01-10   25.0\n",
              "1002         Ben  Boston         1         9.0 2024-01-12    9.0\n",
              "1003         Ava     NYC         4        12.5 2024-01-12   50.0"
            ]
          },
          "execution_count": 60,
          "metadata": {},
          "output_type": "execute_result"
        }
      ],
      "source": [
        "# 3) Common index ops\n",
        "print(df.index.name)\n",
        "df = df.sort_index()\n",
        "df = df.rename_axis(\"OrderID\")\n",
        "df.head(3)"
      ]
    },
    {
      "cell_type": "code",
      "execution_count": 61,
      "metadata": {},
      "outputs": [
        {
          "data": {
            "text/html": [
              "<div>\n",
              "<style scoped>\n",
              "    .dataframe tbody tr th:only-of-type {\n",
              "        vertical-align: middle;\n",
              "    }\n",
              "\n",
              "    .dataframe tbody tr th {\n",
              "        vertical-align: top;\n",
              "    }\n",
              "\n",
              "    .dataframe thead th {\n",
              "        text-align: right;\n",
              "    }\n",
              "</style>\n",
              "<table border=\"1\" class=\"dataframe\">\n",
              "  <thead>\n",
              "    <tr style=\"text-align: right;\">\n",
              "      <th></th>\n",
              "      <th>OrderID</th>\n",
              "      <th>customer</th>\n",
              "      <th>city</th>\n",
              "      <th>quantity</th>\n",
              "      <th>unit_price</th>\n",
              "      <th>order_date</th>\n",
              "      <th>total</th>\n",
              "    </tr>\n",
              "  </thead>\n",
              "  <tbody>\n",
              "    <tr>\n",
              "      <th>0</th>\n",
              "      <td>1001</td>\n",
              "      <td>Ava</td>\n",
              "      <td>NYC</td>\n",
              "      <td>2</td>\n",
              "      <td>12.5</td>\n",
              "      <td>2024-01-10</td>\n",
              "      <td>25.0</td>\n",
              "    </tr>\n",
              "    <tr>\n",
              "      <th>1</th>\n",
              "      <td>1002</td>\n",
              "      <td>Ben</td>\n",
              "      <td>Boston</td>\n",
              "      <td>1</td>\n",
              "      <td>9.0</td>\n",
              "      <td>2024-01-12</td>\n",
              "      <td>9.0</td>\n",
              "    </tr>\n",
              "  </tbody>\n",
              "</table>\n",
              "</div>"
            ],
            "text/plain": [
              "   OrderID customer    city  quantity  unit_price order_date  total\n",
              "0     1001      Ava     NYC         2        12.5 2024-01-10   25.0\n",
              "1     1002      Ben  Boston         1         9.0 2024-01-12    9.0"
            ]
          },
          "execution_count": 61,
          "metadata": {},
          "output_type": "execute_result"
        }
      ],
      "source": [
        "# 4) Reset the index\n",
        "tmp = df.reset_index()\n",
        "tmp.head(2)"
      ]
    },
    {
      "cell_type": "markdown",
      "metadata": {},
      "source": [
        "## Task 3 — DataFrame essentials (8 min)\n",
        "A **DataFrame** is a 2-D table: columns (named), rows (indexed)."
      ]
    },
    {
      "cell_type": "code",
      "execution_count": 62,
      "metadata": {},
      "outputs": [
        {
          "data": {
            "text/html": [
              "<div>\n",
              "<style scoped>\n",
              "    .dataframe tbody tr th:only-of-type {\n",
              "        vertical-align: middle;\n",
              "    }\n",
              "\n",
              "    .dataframe tbody tr th {\n",
              "        vertical-align: top;\n",
              "    }\n",
              "\n",
              "    .dataframe thead th {\n",
              "        text-align: right;\n",
              "    }\n",
              "</style>\n",
              "<table border=\"1\" class=\"dataframe\">\n",
              "  <thead>\n",
              "    <tr style=\"text-align: right;\">\n",
              "      <th></th>\n",
              "      <th>customer</th>\n",
              "      <th>city</th>\n",
              "    </tr>\n",
              "    <tr>\n",
              "      <th>OrderID</th>\n",
              "      <th></th>\n",
              "      <th></th>\n",
              "    </tr>\n",
              "  </thead>\n",
              "  <tbody>\n",
              "    <tr>\n",
              "      <th>1001</th>\n",
              "      <td>Ava</td>\n",
              "      <td>NYC</td>\n",
              "    </tr>\n",
              "    <tr>\n",
              "      <th>1002</th>\n",
              "      <td>Ben</td>\n",
              "      <td>Boston</td>\n",
              "    </tr>\n",
              "    <tr>\n",
              "      <th>1003</th>\n",
              "      <td>Ava</td>\n",
              "      <td>NYC</td>\n",
              "    </tr>\n",
              "  </tbody>\n",
              "</table>\n",
              "</div>"
            ],
            "text/plain": [
              "        customer    city\n",
              "OrderID                 \n",
              "1001         Ava     NYC\n",
              "1002         Ben  Boston\n",
              "1003         Ava     NYC"
            ]
          },
          "metadata": {},
          "output_type": "display_data"
        },
        {
          "data": {
            "text/plain": [
              "customer              object\n",
              "city                  object\n",
              "quantity               int64\n",
              "unit_price           float64\n",
              "order_date    datetime64[ns]\n",
              "total                float64\n",
              "dtype: object"
            ]
          },
          "metadata": {},
          "output_type": "display_data"
        },
        {
          "data": {
            "text/plain": [
              "(6, 6)"
            ]
          },
          "execution_count": 62,
          "metadata": {},
          "output_type": "execute_result"
        }
      ],
      "source": [
        "# 1) Column selection and basic inspection\n",
        "display(df[[\"customer\",\"city\"]].head(3))\n",
        "display(df.dtypes)\n",
        "df.shape"
      ]
    },
    {
      "cell_type": "code",
      "execution_count": 63,
      "metadata": {},
      "outputs": [
        {
          "data": {
            "text/plain": [
              "customer                      Ava\n",
              "city                          NYC\n",
              "quantity                        4\n",
              "unit_price                   12.5\n",
              "order_date    2024-01-12 00:00:00\n",
              "total                        50.0\n",
              "Name: 1003, dtype: object"
            ]
          },
          "metadata": {},
          "output_type": "display_data"
        },
        {
          "data": {
            "text/plain": [
              "customer                      Ava\n",
              "city                          NYC\n",
              "quantity                        4\n",
              "unit_price                   12.5\n",
              "order_date    2024-01-12 00:00:00\n",
              "total                        50.0\n",
              "Name: 1003, dtype: object"
            ]
          },
          "metadata": {},
          "output_type": "display_data"
        }
      ],
      "source": [
        "# 2) Label-based vs position-based row selection\n",
        "row_by_label = df.loc[1003]\n",
        "row_by_pos = df.iloc[2]\n",
        "display(row_by_label)\n",
        "display(row_by_pos)"
      ]
    },
    {
      "cell_type": "code",
      "execution_count": 64,
      "metadata": {},
      "outputs": [
        {
          "data": {
            "text/html": [
              "<div>\n",
              "<style scoped>\n",
              "    .dataframe tbody tr th:only-of-type {\n",
              "        vertical-align: middle;\n",
              "    }\n",
              "\n",
              "    .dataframe tbody tr th {\n",
              "        vertical-align: top;\n",
              "    }\n",
              "\n",
              "    .dataframe thead th {\n",
              "        text-align: right;\n",
              "    }\n",
              "</style>\n",
              "<table border=\"1\" class=\"dataframe\">\n",
              "  <thead>\n",
              "    <tr style=\"text-align: right;\">\n",
              "      <th></th>\n",
              "      <th>customer</th>\n",
              "      <th>total</th>\n",
              "    </tr>\n",
              "    <tr>\n",
              "      <th>OrderID</th>\n",
              "      <th></th>\n",
              "      <th></th>\n",
              "    </tr>\n",
              "  </thead>\n",
              "  <tbody>\n",
              "    <tr>\n",
              "      <th>1002</th>\n",
              "      <td>Ben</td>\n",
              "      <td>9.0</td>\n",
              "    </tr>\n",
              "    <tr>\n",
              "      <th>1003</th>\n",
              "      <td>Ava</td>\n",
              "      <td>50.0</td>\n",
              "    </tr>\n",
              "    <tr>\n",
              "      <th>1004</th>\n",
              "      <td>Cara</td>\n",
              "      <td>45.0</td>\n",
              "    </tr>\n",
              "    <tr>\n",
              "      <th>1005</th>\n",
              "      <td>Ben</td>\n",
              "      <td>18.0</td>\n",
              "    </tr>\n",
              "  </tbody>\n",
              "</table>\n",
              "</div>"
            ],
            "text/plain": [
              "        customer  total\n",
              "OrderID                \n",
              "1002         Ben    9.0\n",
              "1003         Ava   50.0\n",
              "1004        Cara   45.0\n",
              "1005         Ben   18.0"
            ]
          },
          "metadata": {},
          "output_type": "display_data"
        },
        {
          "data": {
            "text/html": [
              "<div>\n",
              "<style scoped>\n",
              "    .dataframe tbody tr th:only-of-type {\n",
              "        vertical-align: middle;\n",
              "    }\n",
              "\n",
              "    .dataframe tbody tr th {\n",
              "        vertical-align: top;\n",
              "    }\n",
              "\n",
              "    .dataframe thead th {\n",
              "        text-align: right;\n",
              "    }\n",
              "</style>\n",
              "<table border=\"1\" class=\"dataframe\">\n",
              "  <thead>\n",
              "    <tr style=\"text-align: right;\">\n",
              "      <th></th>\n",
              "      <th>customer</th>\n",
              "      <th>total</th>\n",
              "    </tr>\n",
              "    <tr>\n",
              "      <th>OrderID</th>\n",
              "      <th></th>\n",
              "      <th></th>\n",
              "    </tr>\n",
              "  </thead>\n",
              "  <tbody>\n",
              "    <tr>\n",
              "      <th>1002</th>\n",
              "      <td>Ben</td>\n",
              "      <td>9.0</td>\n",
              "    </tr>\n",
              "    <tr>\n",
              "      <th>1003</th>\n",
              "      <td>Ava</td>\n",
              "      <td>50.0</td>\n",
              "    </tr>\n",
              "    <tr>\n",
              "      <th>1004</th>\n",
              "      <td>Cara</td>\n",
              "      <td>45.0</td>\n",
              "    </tr>\n",
              "  </tbody>\n",
              "</table>\n",
              "</div>"
            ],
            "text/plain": [
              "        customer  total\n",
              "OrderID                \n",
              "1002         Ben    9.0\n",
              "1003         Ava   50.0\n",
              "1004        Cara   45.0"
            ]
          },
          "metadata": {},
          "output_type": "display_data"
        }
      ],
      "source": [
        "# 3) Slicing differences (inclusive vs exclusive end)\n",
        "display(df.loc[1002:1005, [\"customer\",\"total\"]])  # inclusive of 1005\n",
        "display(df.iloc[1:4, [0, -1]])                      # exclusive of stop"
      ]
    },
    {
      "cell_type": "code",
      "execution_count": 65,
      "metadata": {},
      "outputs": [
        {
          "data": {
            "text/plain": [
              "('Austin', 'Ben')"
            ]
          },
          "execution_count": 65,
          "metadata": {},
          "output_type": "execute_result"
        }
      ],
      "source": [
        "# 4) Fast scalar access\n",
        "city = df.at[1004, \"city\"]\n",
        "first_val = df.iat[1, 0]\n",
        "city, first_val"
      ]
    },
    {
      "cell_type": "code",
      "execution_count": 66,
      "metadata": {},
      "outputs": [
        {
          "data": {
            "text/html": [
              "<div>\n",
              "<style scoped>\n",
              "    .dataframe tbody tr th:only-of-type {\n",
              "        vertical-align: middle;\n",
              "    }\n",
              "\n",
              "    .dataframe tbody tr th {\n",
              "        vertical-align: top;\n",
              "    }\n",
              "\n",
              "    .dataframe thead th {\n",
              "        text-align: right;\n",
              "    }\n",
              "</style>\n",
              "<table border=\"1\" class=\"dataframe\">\n",
              "  <thead>\n",
              "    <tr style=\"text-align: right;\">\n",
              "      <th></th>\n",
              "      <th>customer</th>\n",
              "      <th>city</th>\n",
              "      <th>total</th>\n",
              "    </tr>\n",
              "    <tr>\n",
              "      <th>OrderID</th>\n",
              "      <th></th>\n",
              "      <th></th>\n",
              "      <th></th>\n",
              "    </tr>\n",
              "  </thead>\n",
              "  <tbody>\n",
              "    <tr>\n",
              "      <th>1003</th>\n",
              "      <td>Ava</td>\n",
              "      <td>NYC</td>\n",
              "      <td>50.0</td>\n",
              "    </tr>\n",
              "  </tbody>\n",
              "</table>\n",
              "</div>"
            ],
            "text/plain": [
              "        customer city  total\n",
              "OrderID                     \n",
              "1003         Ava  NYC   50.0"
            ]
          },
          "execution_count": 66,
          "metadata": {},
          "output_type": "execute_result"
        }
      ],
      "source": [
        "# 5) Boolean filtering + sorting\n",
        "nyc_big = df.loc[(df[\"city\"].eq(\"NYC\")) & (df[\"total\"] > 25), [\"customer\",\"city\",\"total\"]]\n",
        "nyc_big.sort_values(\"total\", ascending=False)"
      ]
    },
    {
      "cell_type": "code",
      "execution_count": 67,
      "metadata": {},
      "outputs": [
        {
          "data": {
            "text/html": [
              "<div>\n",
              "<style scoped>\n",
              "    .dataframe tbody tr th:only-of-type {\n",
              "        vertical-align: middle;\n",
              "    }\n",
              "\n",
              "    .dataframe tbody tr th {\n",
              "        vertical-align: top;\n",
              "    }\n",
              "\n",
              "    .dataframe thead th {\n",
              "        text-align: right;\n",
              "    }\n",
              "</style>\n",
              "<table border=\"1\" class=\"dataframe\">\n",
              "  <thead>\n",
              "    <tr style=\"text-align: right;\">\n",
              "      <th></th>\n",
              "      <th>customer</th>\n",
              "      <th>city</th>\n",
              "      <th>quantity</th>\n",
              "      <th>unit_price</th>\n",
              "      <th>order_date</th>\n",
              "      <th>total</th>\n",
              "      <th>month</th>\n",
              "      <th>discounted</th>\n",
              "    </tr>\n",
              "    <tr>\n",
              "      <th>OrderID</th>\n",
              "      <th></th>\n",
              "      <th></th>\n",
              "      <th></th>\n",
              "      <th></th>\n",
              "      <th></th>\n",
              "      <th></th>\n",
              "      <th></th>\n",
              "      <th></th>\n",
              "    </tr>\n",
              "  </thead>\n",
              "  <tbody>\n",
              "    <tr>\n",
              "      <th>1001</th>\n",
              "      <td>Ava</td>\n",
              "      <td>NYC</td>\n",
              "      <td>2</td>\n",
              "      <td>12.5</td>\n",
              "      <td>2024-01-10</td>\n",
              "      <td>25.0</td>\n",
              "      <td>2024-01</td>\n",
              "      <td>25.0</td>\n",
              "    </tr>\n",
              "    <tr>\n",
              "      <th>1002</th>\n",
              "      <td>Ben</td>\n",
              "      <td>Boston</td>\n",
              "      <td>1</td>\n",
              "      <td>9.0</td>\n",
              "      <td>2024-01-12</td>\n",
              "      <td>9.0</td>\n",
              "      <td>2024-01</td>\n",
              "      <td>9.0</td>\n",
              "    </tr>\n",
              "    <tr>\n",
              "      <th>1003</th>\n",
              "      <td>Ava</td>\n",
              "      <td>NYC</td>\n",
              "      <td>4</td>\n",
              "      <td>12.5</td>\n",
              "      <td>2024-01-12</td>\n",
              "      <td>50.0</td>\n",
              "      <td>2024-01</td>\n",
              "      <td>45.0</td>\n",
              "    </tr>\n",
              "    <tr>\n",
              "      <th>1004</th>\n",
              "      <td>Cara</td>\n",
              "      <td>Austin</td>\n",
              "      <td>3</td>\n",
              "      <td>15.0</td>\n",
              "      <td>2024-02-01</td>\n",
              "      <td>45.0</td>\n",
              "      <td>2024-02</td>\n",
              "      <td>40.5</td>\n",
              "    </tr>\n",
              "    <tr>\n",
              "      <th>1005</th>\n",
              "      <td>Ben</td>\n",
              "      <td>Boston</td>\n",
              "      <td>2</td>\n",
              "      <td>9.0</td>\n",
              "      <td>2024-02-03</td>\n",
              "      <td>18.0</td>\n",
              "      <td>2024-02</td>\n",
              "      <td>18.0</td>\n",
              "    </tr>\n",
              "  </tbody>\n",
              "</table>\n",
              "</div>"
            ],
            "text/plain": [
              "        customer    city  quantity  unit_price order_date  total    month  \\\n",
              "OrderID                                                                     \n",
              "1001         Ava     NYC         2        12.5 2024-01-10   25.0  2024-01   \n",
              "1002         Ben  Boston         1         9.0 2024-01-12    9.0  2024-01   \n",
              "1003         Ava     NYC         4        12.5 2024-01-12   50.0  2024-01   \n",
              "1004        Cara  Austin         3        15.0 2024-02-01   45.0  2024-02   \n",
              "1005         Ben  Boston         2         9.0 2024-02-03   18.0  2024-02   \n",
              "\n",
              "         discounted  \n",
              "OrderID              \n",
              "1001           25.0  \n",
              "1002            9.0  \n",
              "1003           45.0  \n",
              "1004           40.5  \n",
              "1005           18.0  "
            ]
          },
          "execution_count": 67,
          "metadata": {},
          "output_type": "execute_result"
        }
      ],
      "source": [
        "# 6) Add/update columns the vectorized way\n",
        "df[\"month\"] = df[\"order_date\"].dt.to_period(\"M\")\n",
        "df[\"discounted\"] = np.where(df[\"total\"] >= 40, df[\"total\"]*0.9, df[\"total\"])\n",
        "df.head()"
      ]
    },
    {
      "cell_type": "markdown",
      "metadata": {},
      "source": [
        "## Task 4 — MultiIndex mini-exercise (5 min)\n",
        "A **MultiIndex** lets you index by multiple keys (e.g., `customer` and `city`)."
      ]
    },
    {
      "cell_type": "code",
      "execution_count": 68,
      "metadata": {},
      "outputs": [
        {
          "data": {
            "text/html": [
              "<div>\n",
              "<style scoped>\n",
              "    .dataframe tbody tr th:only-of-type {\n",
              "        vertical-align: middle;\n",
              "    }\n",
              "\n",
              "    .dataframe tbody tr th {\n",
              "        vertical-align: top;\n",
              "    }\n",
              "\n",
              "    .dataframe thead th {\n",
              "        text-align: right;\n",
              "    }\n",
              "</style>\n",
              "<table border=\"1\" class=\"dataframe\">\n",
              "  <thead>\n",
              "    <tr style=\"text-align: right;\">\n",
              "      <th></th>\n",
              "      <th></th>\n",
              "      <th></th>\n",
              "      <th>quantity</th>\n",
              "      <th>unit_price</th>\n",
              "      <th>order_date</th>\n",
              "      <th>total</th>\n",
              "      <th>month</th>\n",
              "      <th>discounted</th>\n",
              "    </tr>\n",
              "    <tr>\n",
              "      <th>customer</th>\n",
              "      <th>city</th>\n",
              "      <th>OrderID</th>\n",
              "      <th></th>\n",
              "      <th></th>\n",
              "      <th></th>\n",
              "      <th></th>\n",
              "      <th></th>\n",
              "      <th></th>\n",
              "    </tr>\n",
              "  </thead>\n",
              "  <tbody>\n",
              "    <tr>\n",
              "      <th rowspan=\"3\" valign=\"top\">Ava</th>\n",
              "      <th rowspan=\"3\" valign=\"top\">NYC</th>\n",
              "      <th>1001</th>\n",
              "      <td>2</td>\n",
              "      <td>12.5</td>\n",
              "      <td>2024-01-10</td>\n",
              "      <td>25.0</td>\n",
              "      <td>2024-01</td>\n",
              "      <td>25.0</td>\n",
              "    </tr>\n",
              "    <tr>\n",
              "      <th>1003</th>\n",
              "      <td>4</td>\n",
              "      <td>12.5</td>\n",
              "      <td>2024-01-12</td>\n",
              "      <td>50.0</td>\n",
              "      <td>2024-01</td>\n",
              "      <td>45.0</td>\n",
              "    </tr>\n",
              "    <tr>\n",
              "      <th>1006</th>\n",
              "      <td>1</td>\n",
              "      <td>12.5</td>\n",
              "      <td>2024-03-15</td>\n",
              "      <td>12.5</td>\n",
              "      <td>2024-03</td>\n",
              "      <td>12.5</td>\n",
              "    </tr>\n",
              "    <tr>\n",
              "      <th rowspan=\"2\" valign=\"top\">Ben</th>\n",
              "      <th rowspan=\"2\" valign=\"top\">Boston</th>\n",
              "      <th>1002</th>\n",
              "      <td>1</td>\n",
              "      <td>9.0</td>\n",
              "      <td>2024-01-12</td>\n",
              "      <td>9.0</td>\n",
              "      <td>2024-01</td>\n",
              "      <td>9.0</td>\n",
              "    </tr>\n",
              "    <tr>\n",
              "      <th>1005</th>\n",
              "      <td>2</td>\n",
              "      <td>9.0</td>\n",
              "      <td>2024-02-03</td>\n",
              "      <td>18.0</td>\n",
              "      <td>2024-02</td>\n",
              "      <td>18.0</td>\n",
              "    </tr>\n",
              "  </tbody>\n",
              "</table>\n",
              "</div>"
            ],
            "text/plain": [
              "                         quantity  unit_price order_date  total    month  \\\n",
              "customer city   OrderID                                                    \n",
              "Ava      NYC    1001            2        12.5 2024-01-10   25.0  2024-01   \n",
              "                1003            4        12.5 2024-01-12   50.0  2024-01   \n",
              "                1006            1        12.5 2024-03-15   12.5  2024-03   \n",
              "Ben      Boston 1002            1         9.0 2024-01-12    9.0  2024-01   \n",
              "                1005            2         9.0 2024-02-03   18.0  2024-02   \n",
              "\n",
              "                         discounted  \n",
              "customer city   OrderID              \n",
              "Ava      NYC    1001           25.0  \n",
              "                1003           45.0  \n",
              "                1006           12.5  \n",
              "Ben      Boston 1002            9.0  \n",
              "                1005           18.0  "
            ]
          },
          "execution_count": 68,
          "metadata": {},
          "output_type": "execute_result"
        }
      ],
      "source": [
        "# 1) Create a MultiIndex\n",
        "midx = df.reset_index().set_index([\"customer\",\"city\",\"OrderID\"]).sort_index()\n",
        "midx.head()"
      ]
    },
    {
      "cell_type": "code",
      "execution_count": 69,
      "metadata": {},
      "outputs": [
        {
          "data": {
            "text/html": [
              "<div>\n",
              "<style scoped>\n",
              "    .dataframe tbody tr th:only-of-type {\n",
              "        vertical-align: middle;\n",
              "    }\n",
              "\n",
              "    .dataframe tbody tr th {\n",
              "        vertical-align: top;\n",
              "    }\n",
              "\n",
              "    .dataframe thead th {\n",
              "        text-align: right;\n",
              "    }\n",
              "</style>\n",
              "<table border=\"1\" class=\"dataframe\">\n",
              "  <thead>\n",
              "    <tr style=\"text-align: right;\">\n",
              "      <th></th>\n",
              "      <th>quantity</th>\n",
              "      <th>unit_price</th>\n",
              "      <th>order_date</th>\n",
              "      <th>total</th>\n",
              "      <th>month</th>\n",
              "      <th>discounted</th>\n",
              "    </tr>\n",
              "    <tr>\n",
              "      <th>OrderID</th>\n",
              "      <th></th>\n",
              "      <th></th>\n",
              "      <th></th>\n",
              "      <th></th>\n",
              "      <th></th>\n",
              "      <th></th>\n",
              "    </tr>\n",
              "  </thead>\n",
              "  <tbody>\n",
              "    <tr>\n",
              "      <th>1001</th>\n",
              "      <td>2</td>\n",
              "      <td>12.5</td>\n",
              "      <td>2024-01-10</td>\n",
              "      <td>25.0</td>\n",
              "      <td>2024-01</td>\n",
              "      <td>25.0</td>\n",
              "    </tr>\n",
              "    <tr>\n",
              "      <th>1003</th>\n",
              "      <td>4</td>\n",
              "      <td>12.5</td>\n",
              "      <td>2024-01-12</td>\n",
              "      <td>50.0</td>\n",
              "      <td>2024-01</td>\n",
              "      <td>45.0</td>\n",
              "    </tr>\n",
              "    <tr>\n",
              "      <th>1006</th>\n",
              "      <td>1</td>\n",
              "      <td>12.5</td>\n",
              "      <td>2024-03-15</td>\n",
              "      <td>12.5</td>\n",
              "      <td>2024-03</td>\n",
              "      <td>12.5</td>\n",
              "    </tr>\n",
              "  </tbody>\n",
              "</table>\n",
              "</div>"
            ],
            "text/plain": [
              "         quantity  unit_price order_date  total    month  discounted\n",
              "OrderID                                                             \n",
              "1001            2        12.5 2024-01-10   25.0  2024-01        25.0\n",
              "1003            4        12.5 2024-01-12   50.0  2024-01        45.0\n",
              "1006            1        12.5 2024-03-15   12.5  2024-03        12.5"
            ]
          },
          "execution_count": 69,
          "metadata": {},
          "output_type": "execute_result"
        }
      ],
      "source": [
        "# 2) Select all orders for a customer in a city (label tuple)\n",
        "midx.loc[(\"Ava\",\"NYC\")]"
      ]
    },
    {
      "cell_type": "code",
      "execution_count": 70,
      "metadata": {},
      "outputs": [
        {
          "data": {
            "text/html": [
              "<div>\n",
              "<style scoped>\n",
              "    .dataframe tbody tr th:only-of-type {\n",
              "        vertical-align: middle;\n",
              "    }\n",
              "\n",
              "    .dataframe tbody tr th {\n",
              "        vertical-align: top;\n",
              "    }\n",
              "\n",
              "    .dataframe thead th {\n",
              "        text-align: right;\n",
              "    }\n",
              "</style>\n",
              "<table border=\"1\" class=\"dataframe\">\n",
              "  <thead>\n",
              "    <tr style=\"text-align: right;\">\n",
              "      <th></th>\n",
              "      <th></th>\n",
              "      <th>quantity</th>\n",
              "      <th>unit_price</th>\n",
              "      <th>order_date</th>\n",
              "      <th>total</th>\n",
              "      <th>month</th>\n",
              "      <th>discounted</th>\n",
              "    </tr>\n",
              "    <tr>\n",
              "      <th>city</th>\n",
              "      <th>OrderID</th>\n",
              "      <th></th>\n",
              "      <th></th>\n",
              "      <th></th>\n",
              "      <th></th>\n",
              "      <th></th>\n",
              "      <th></th>\n",
              "    </tr>\n",
              "  </thead>\n",
              "  <tbody>\n",
              "    <tr>\n",
              "      <th rowspan=\"3\" valign=\"top\">NYC</th>\n",
              "      <th>1001</th>\n",
              "      <td>2</td>\n",
              "      <td>12.5</td>\n",
              "      <td>2024-01-10</td>\n",
              "      <td>25.0</td>\n",
              "      <td>2024-01</td>\n",
              "      <td>25.0</td>\n",
              "    </tr>\n",
              "    <tr>\n",
              "      <th>1003</th>\n",
              "      <td>4</td>\n",
              "      <td>12.5</td>\n",
              "      <td>2024-01-12</td>\n",
              "      <td>50.0</td>\n",
              "      <td>2024-01</td>\n",
              "      <td>45.0</td>\n",
              "    </tr>\n",
              "    <tr>\n",
              "      <th>1006</th>\n",
              "      <td>1</td>\n",
              "      <td>12.5</td>\n",
              "      <td>2024-03-15</td>\n",
              "      <td>12.5</td>\n",
              "      <td>2024-03</td>\n",
              "      <td>12.5</td>\n",
              "    </tr>\n",
              "  </tbody>\n",
              "</table>\n",
              "</div>"
            ],
            "text/plain": [
              "              quantity  unit_price order_date  total    month  discounted\n",
              "city OrderID                                                             \n",
              "NYC  1001            2        12.5 2024-01-10   25.0  2024-01        25.0\n",
              "     1003            4        12.5 2024-01-12   50.0  2024-01        45.0\n",
              "     1006            1        12.5 2024-03-15   12.5  2024-03        12.5"
            ]
          },
          "metadata": {},
          "output_type": "display_data"
        },
        {
          "data": {
            "text/html": [
              "<div>\n",
              "<style scoped>\n",
              "    .dataframe tbody tr th:only-of-type {\n",
              "        vertical-align: middle;\n",
              "    }\n",
              "\n",
              "    .dataframe tbody tr th {\n",
              "        vertical-align: top;\n",
              "    }\n",
              "\n",
              "    .dataframe thead th {\n",
              "        text-align: right;\n",
              "    }\n",
              "</style>\n",
              "<table border=\"1\" class=\"dataframe\">\n",
              "  <thead>\n",
              "    <tr style=\"text-align: right;\">\n",
              "      <th></th>\n",
              "      <th></th>\n",
              "      <th>quantity</th>\n",
              "      <th>unit_price</th>\n",
              "      <th>order_date</th>\n",
              "      <th>total</th>\n",
              "      <th>month</th>\n",
              "      <th>discounted</th>\n",
              "    </tr>\n",
              "    <tr>\n",
              "      <th>customer</th>\n",
              "      <th>OrderID</th>\n",
              "      <th></th>\n",
              "      <th></th>\n",
              "      <th></th>\n",
              "      <th></th>\n",
              "      <th></th>\n",
              "      <th></th>\n",
              "    </tr>\n",
              "  </thead>\n",
              "  <tbody>\n",
              "    <tr>\n",
              "      <th rowspan=\"3\" valign=\"top\">Ava</th>\n",
              "      <th>1001</th>\n",
              "      <td>2</td>\n",
              "      <td>12.5</td>\n",
              "      <td>2024-01-10</td>\n",
              "      <td>25.0</td>\n",
              "      <td>2024-01</td>\n",
              "      <td>25.0</td>\n",
              "    </tr>\n",
              "    <tr>\n",
              "      <th>1003</th>\n",
              "      <td>4</td>\n",
              "      <td>12.5</td>\n",
              "      <td>2024-01-12</td>\n",
              "      <td>50.0</td>\n",
              "      <td>2024-01</td>\n",
              "      <td>45.0</td>\n",
              "    </tr>\n",
              "    <tr>\n",
              "      <th>1006</th>\n",
              "      <td>1</td>\n",
              "      <td>12.5</td>\n",
              "      <td>2024-03-15</td>\n",
              "      <td>12.5</td>\n",
              "      <td>2024-03</td>\n",
              "      <td>12.5</td>\n",
              "    </tr>\n",
              "  </tbody>\n",
              "</table>\n",
              "</div>"
            ],
            "text/plain": [
              "                  quantity  unit_price order_date  total    month  discounted\n",
              "customer OrderID                                                             \n",
              "Ava      1001            2        12.5 2024-01-10   25.0  2024-01        25.0\n",
              "         1003            4        12.5 2024-01-12   50.0  2024-01        45.0\n",
              "         1006            1        12.5 2024-03-15   12.5  2024-03        12.5"
            ]
          },
          "metadata": {},
          "output_type": "display_data"
        }
      ],
      "source": [
        "# 3) Select by one level using .xs (cross-section)\n",
        "ava_all = midx.xs(\"Ava\", level=\"customer\")\n",
        "nyc_all = midx.xs(\"NYC\", level=\"city\")\n",
        "display(ava_all.head())\n",
        "display(nyc_all.head())"
      ]
    },
    {
      "cell_type": "code",
      "execution_count": 71,
      "metadata": {},
      "outputs": [
        {
          "data": {
            "text/html": [
              "<div>\n",
              "<style scoped>\n",
              "    .dataframe tbody tr th:only-of-type {\n",
              "        vertical-align: middle;\n",
              "    }\n",
              "\n",
              "    .dataframe tbody tr th {\n",
              "        vertical-align: top;\n",
              "    }\n",
              "\n",
              "    .dataframe thead th {\n",
              "        text-align: right;\n",
              "    }\n",
              "</style>\n",
              "<table border=\"1\" class=\"dataframe\">\n",
              "  <thead>\n",
              "    <tr style=\"text-align: right;\">\n",
              "      <th></th>\n",
              "      <th>quantity</th>\n",
              "      <th>unit_price</th>\n",
              "      <th>order_date</th>\n",
              "      <th>total</th>\n",
              "      <th>month</th>\n",
              "      <th>discounted</th>\n",
              "    </tr>\n",
              "    <tr>\n",
              "      <th>OrderID</th>\n",
              "      <th></th>\n",
              "      <th></th>\n",
              "      <th></th>\n",
              "      <th></th>\n",
              "      <th></th>\n",
              "      <th></th>\n",
              "    </tr>\n",
              "  </thead>\n",
              "  <tbody>\n",
              "    <tr>\n",
              "      <th>1003</th>\n",
              "      <td>4</td>\n",
              "      <td>12.5</td>\n",
              "      <td>2024-01-12</td>\n",
              "      <td>50.0</td>\n",
              "      <td>2024-01</td>\n",
              "      <td>45.0</td>\n",
              "    </tr>\n",
              "    <tr>\n",
              "      <th>1006</th>\n",
              "      <td>1</td>\n",
              "      <td>12.5</td>\n",
              "      <td>2024-03-15</td>\n",
              "      <td>12.5</td>\n",
              "      <td>2024-03</td>\n",
              "      <td>12.5</td>\n",
              "    </tr>\n",
              "  </tbody>\n",
              "</table>\n",
              "</div>"
            ],
            "text/plain": [
              "         quantity  unit_price order_date  total    month  discounted\n",
              "OrderID                                                             \n",
              "1003            4        12.5 2024-01-12   50.0  2024-01        45.0\n",
              "1006            1        12.5 2024-03-15   12.5  2024-03        12.5"
            ]
          },
          "execution_count": 71,
          "metadata": {},
          "output_type": "execute_result"
        }
      ],
      "source": [
        "# 4) Partial slice across a range of order IDs for one customer/city\n",
        "midx.loc[(\"Ava\",\"NYC\")].loc[1002:1006]"
      ]
    },
    {
      "cell_type": "markdown",
      "metadata": {},
      "source": [
        "## Stretch (optional, 3 min) — Time index\n",
        "Working with dates is easier if dates are the index."
      ]
    },
    {
      "cell_type": "code",
      "execution_count": 72,
      "metadata": {},
      "outputs": [
        {
          "data": {
            "text/plain": [
              "order_date\n",
              "2024-01-01    7\n",
              "2024-02-01    5\n",
              "2024-03-01    1\n",
              "Freq: MS, Name: quantity, dtype: int64"
            ]
          },
          "execution_count": 72,
          "metadata": {},
          "output_type": "execute_result"
        }
      ],
      "source": [
        "t = df.set_index(\"order_date\").sort_index()\n",
        "t[\"quantity\"].resample(\"MS\").sum()"
      ]
    },
    {
      "cell_type": "markdown",
      "metadata": {},
      "source": [
        "## Quick self-check (2 min)\n",
        "Answer without running code (then verify):\n",
        "\n",
        "1) Which accessor is *inclusive* at the end for slicing: `.loc` or `.iloc`?\n",
        "\n",
        "2) What happens when you `reindex` with labels not present in the original Series?\n",
        "\n",
        "3) Which is faster for single-cell gets: `.loc` or `.at`?\n",
        "\n",
        "4) How do you select all rows for `customer=\"Ben\"` in the MultiIndex DataFrame?\n",
        "\n",
        "**Answers:**\n",
        "1) `.loc` is inclusive; `.iloc` is exclusive at the stop.\n",
        "2) New labels appear with `NaN` (unless you provide `fill_value` or a method).\n",
        "3) `.at` (label) and `.iat` (position) are optimized for scalars.\n",
        "4) `midx.xs(\"Ben\", level=\"customer\")` (or `midx.loc[\"Ben\"]` if it’s the outermost level)."
      ]
    },
    {
      "cell_type": "markdown",
      "metadata": {},
      "source": [
        "## (Optional) Challenge\n",
        "- Add a `category` column: map `unit_price >= 12` → `\"Premium\"` else `\"Standard\"`.\n",
        "- Compute total revenue by `(customer, category)` using `groupby([\"customer\",\"category\"])[\"total\"].sum()`.\n",
        "- Which two orders had the highest `discounted` value? Return `OrderID` and `discounted` only."
      ]
    },
    {
      "cell_type": "code",
      "execution_count": 73,
      "metadata": {
        "jupyter": {
          "source_hidden": true
        }
      },
      "outputs": [
        {
          "data": {
            "text/html": [
              "<div>\n",
              "<style scoped>\n",
              "    .dataframe tbody tr th:only-of-type {\n",
              "        vertical-align: middle;\n",
              "    }\n",
              "\n",
              "    .dataframe tbody tr th {\n",
              "        vertical-align: top;\n",
              "    }\n",
              "\n",
              "    .dataframe thead th {\n",
              "        text-align: right;\n",
              "    }\n",
              "</style>\n",
              "<table border=\"1\" class=\"dataframe\">\n",
              "  <thead>\n",
              "    <tr style=\"text-align: right;\">\n",
              "      <th></th>\n",
              "      <th>discounted</th>\n",
              "    </tr>\n",
              "    <tr>\n",
              "      <th>OrderID</th>\n",
              "      <th></th>\n",
              "    </tr>\n",
              "  </thead>\n",
              "  <tbody>\n",
              "    <tr>\n",
              "      <th>1003</th>\n",
              "      <td>45.0</td>\n",
              "    </tr>\n",
              "    <tr>\n",
              "      <th>1004</th>\n",
              "      <td>40.5</td>\n",
              "    </tr>\n",
              "  </tbody>\n",
              "</table>\n",
              "</div>"
            ],
            "text/plain": [
              "         discounted\n",
              "OrderID            \n",
              "1003           45.0\n",
              "1004           40.5"
            ]
          },
          "execution_count": 73,
          "metadata": {},
          "output_type": "execute_result"
        }
      ],
      "source": [
        "# Challenge (examples)\n",
        "df[\"category\"] = np.where(df[\"unit_price\"] >= 12, \"Premium\", \"Standard\")\n",
        "revenue_by_cc = df.groupby([\"customer\",\"category\"])[\"total\"].sum().sort_values(ascending=False)\n",
        "top2_discounted = df[\"discounted\"].nlargest(2)\n",
        "df.loc[df[\"discounted\"].nlargest(2).index, [\"discounted\"]]"
      ]
    }
  ],
  "metadata": {
    "created": "2025-09-27T17:59:46.855771Z",
    "kernelspec": {
      "display_name": "base",
      "language": "python",
      "name": "python3"
    },
    "language_info": {
      "codemirror_mode": {
        "name": "ipython",
        "version": 3
      },
      "file_extension": ".py",
      "mimetype": "text/x-python",
      "name": "python",
      "nbconvert_exporter": "python",
      "pygments_lexer": "ipython3",
      "version": "3.13.5"
    },
    "toc": {
      "base_numbering": 1,
      "nav_menu": {},
      "number_sections": true,
      "sideBar": true,
      "skip_h1_title": false,
      "title_cell": "Table of Contents",
      "title_sidebar": "Contents",
      "toc_cell": false,
      "toc_position": {},
      "toc_section_display": true,
      "toc_window_display": false
    }
  },
  "nbformat": 4,
  "nbformat_minor": 5
}
